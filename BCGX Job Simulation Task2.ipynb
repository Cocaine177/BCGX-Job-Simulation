import pandas as pd
import seaborn as sns
import matplotlib.pyplot as plt

sns.set(style="whitegrid")

client_df = pd.read_csv("client_data.csv")
price_df = pd.read_csv("price_data.csv")

client_df.info()
price_df.info()

client_df.isnull().sum()
price_df.isnull().sum()

client_df.describe()

sns.histplot(client_df['cons_12m'], kde=True)
plt.title("Electricity Consumption(12 Months)")
plt.xlabel("kW/h")
plt.show()

sns.histplot(client_df['forecast_price_energy_peak'], kde=True)
plt.title("Forecast Peak Energy Price Distribution")
plt.xlabel("Price")
plt.show()

sns.countplot(x='churn', data=client_df)
plt.title("Customer Churn distribution")
plt.xlabel("Churn(0=No,1=Yes)")
plt.ylabel("Count")
plt.show()

sns.countplot(x='origin_up', data=client_df)
plt.title("Customer Origin Campaign")
plt.xticks(rotation=45)
plt.show()

client_df.groupby('churn')[['cons_12m', 'net_margin', 'forecast_price_energy_peak']].mean()

plt.figure(figsize=(12, 6))
sns.heatmap(client_df.corr(numeric_only=True), annot=True, cmap='coolwarm')
plt.title("Correlation Between Variables")
plt.show()
